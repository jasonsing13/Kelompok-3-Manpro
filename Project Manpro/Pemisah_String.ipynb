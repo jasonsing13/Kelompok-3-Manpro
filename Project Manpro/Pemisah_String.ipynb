{
 "cells": [
  {
   "cell_type": "code",
   "execution_count": 37,
   "metadata": {},
   "outputs": [],
   "source": [
    "import pandas as pd\n",
    "import matplotlib.pyplot as plt"
   ]
  },
  {
   "cell_type": "code",
   "execution_count": null,
   "metadata": {},
   "outputs": [],
   "source": [
    "# membaca data dari file csv\n",
    "data = pd.read_csv('Data.csv')\n",
    "data"
   ]
  },
  {
   "cell_type": "code",
   "execution_count": null,
   "metadata": {},
   "outputs": [],
   "source": [
    "#Membuat kolom baru\n",
    "data[['Kemampuan_Produksi','Satuan_Barang']] = data['Kemampuan_Produksi'].str.split(' ',expand=True)\n",
    "data"
   ]
  },
  {
   "cell_type": "code",
   "execution_count": 40,
   "metadata": {},
   "outputs": [],
   "source": [
    "#Memindahkan kolom\n",
    "kolom_pindah = data.pop(\"Satuan_Barang\")\n",
    "data.insert(4, \"Satuan_Barang\", kolom_pindah)\n",
    "data\n",
    "\n",
    "data.to_excel(r'Data After Delimiter.xlsx', index=False)\n"
   ]
  }
 ],
 "metadata": {
  "kernelspec": {
   "display_name": "Python 3",
   "language": "python",
   "name": "python3"
  },
  "language_info": {
   "codemirror_mode": {
    "name": "ipython",
    "version": 3
   },
   "file_extension": ".py",
   "mimetype": "text/x-python",
   "name": "python",
   "nbconvert_exporter": "python",
   "pygments_lexer": "ipython3",
   "version": "3.10.11"
  },
  "orig_nbformat": 4,
  "vscode": {
   "interpreter": {
    "hash": "e4f60ed1ddcec3bf888266d621619471b9d7be84409a4c769de15342c97529b9"
   }
  }
 },
 "nbformat": 4,
 "nbformat_minor": 2
}
